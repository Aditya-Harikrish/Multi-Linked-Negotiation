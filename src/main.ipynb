{
 "cells": [
  {
   "cell_type": "code",
   "execution_count": 145,
   "metadata": {},
   "outputs": [],
   "source": [
    "import numpy as np\n",
    "import matplotlib.pyplot as plt\n",
    "import os\n",
    "from enum import Enum\n",
    "from itertools import permutations\n",
    "from copy import copy\n",
    "from icecream import ic"
   ]
  },
  {
   "cell_type": "markdown",
   "metadata": {},
   "source": [
    "### Input format\n",
    "The first line is of the form\n",
    "```\n",
    "agent_count est_o dl_o\n",
    "```\n",
    "\n",
    "It is followed by `agent_count` lines, of which line $i$ (zero-indexed) of the input .csv file pertains to issue $i$, and is a tuple of the form `(agent, parent_issue, [pretasks], children_finish, issue_type, other_issue)`, where\n",
    "\n",
    "- `agent` is the agent ID of that agent which is supposed to do this task\n",
    "- `parent_issue` of an incoming issue is **not** the same as that of its `other_issue`\n",
    "- `[pretasks]` = Set of explicit pretasks (i.e., doesn't include parent-child relationships). '' if there is no pretask. Separated by ';' otherwise\n",
    "- `children_finish` = 0 for \"and\", 1 for \"or\", '' for no chlidren. It may be 0 or 1 even if it has no children; however, '' indicates that we know for sure that there is no child.\n",
    "- `issue_type` = 1 for local tasks (that are not incoming), 2 for outgoing tasks, 3 for incoming tasks\n",
    "- `other_issue` is the issue ID of the issue linked to this issue (defined only when issue_type is outgoing or incoming)\n"
   ]
  },
  {
   "cell_type": "code",
   "execution_count": 146,
   "metadata": {},
   "outputs": [],
   "source": [
    "class issue_type(Enum):\n",
    "    NONE = 0\n",
    "    LOCAL = 1\n",
    "    OUTGOING = 2\n",
    "    INCOMING = 3\n",
    "\n",
    "\n",
    "class issue:\n",
    "    def __init__(self, issue_num: int, line: str) -> None:\n",
    "        self.ID = issue_num\n",
    "        line = line.split(',')\n",
    "        self.agent = int(line[0])\n",
    "        self.parent = int(line[1])\n",
    "        try:\n",
    "            self.pretasks = list(map(int, line[2].split(';')))\n",
    "        except:\n",
    "            self.pretasks = []\n",
    "\n",
    "        self.children_finish = int(line[3])\n",
    "        self.issue_type = issue_type(int(line[4]))\n",
    "        self.other_issue = int(line[5])\n",
    "\n",
    "\n",
    "class agent:\n",
    "    def __init__(self) -> None:\n",
    "        self.issues: list[int] = []\n",
    "        # issues that are either outgoing or incoming\n",
    "        negotiation_issues: list[int] = []\n"
   ]
  },
  {
   "cell_type": "code",
   "execution_count": 147,
   "metadata": {},
   "outputs": [
    {
     "name": "stderr",
     "output_type": "stream",
     "text": [
      "ic| est_o: 0\n",
      "ic| dl_o: 100\n",
      "ic| agent_count: 3\n"
     ]
    },
    {
     "name": "stdout",
     "output_type": "stream",
     "text": [
      "Agents:\n",
      "Agent 0: [0, 1]\n",
      "Agent 1: [2, 3, 4, 5, 6, 7, 8]\n",
      "Agent 2: [9, 10, 11, 12]\n",
      "\n",
      "Issues:\n",
      "0 -1 [] 0 OUTGOING 2\n",
      "0 -1 [] 0 OUTGOING 10\n",
      "1 -1 [] 0 INCOMING 0\n",
      "1 2 [] 0 LOCAL -1\n",
      "1 3 [] 0 LOCAL -1\n",
      "1 3 [4] 0 LOCAL -1\n",
      "1 4 [] 0 OUTGOING 9\n",
      "1 4 [] 0 LOCAL -1\n",
      "1 4 [6, 7] 0 LOCAL -1\n",
      "2 -1 [] 0 INCOMING 6\n",
      "2 -1 [] 0 INCOMING 1\n",
      "2 9 [] 0 LOCAL -1\n",
      "2 10 [] 0 LOCAL -1\n"
     ]
    }
   ],
   "source": [
    "# input_file = \"..\" + os.sep + \"data\" + os.sep + \"input.txt\"\n",
    "input_file = os.path.join(os.getcwd(), '..', 'data', 'input.csv')\n",
    "\n",
    "issue_graph: list[issue] = []\n",
    "with open(input_file, 'r') as f:\n",
    "    agent_count, est_o, dl_o = list(map(int, f.readline().split()))\n",
    "    agents: list[agent] = [agent() for i in range(agent_count)]\n",
    "    issue_num: int = 0\n",
    "    for line in f:\n",
    "        cur_issue = issue(issue_num, line)\n",
    "        issue_graph.append(cur_issue)\n",
    "        agents[cur_issue.agent].issues.append(issue_num)\n",
    "        issue_num += 1\n",
    "\n",
    "ic(est_o)\n",
    "ic(dl_o)\n",
    "ic(agent_count)\n",
    "print(\"Agents:\")\n",
    "for i, agent in enumerate(agents):\n",
    "    print(f\"Agent {i}: {agent.issues}\")\n",
    "print(\"\\nIssues:\")\n",
    "for issue in issue_graph:\n",
    "    print(issue.agent, issue.parent, issue.pretasks, issue.children_finish, issue.issue_type.name, issue.other_issue)"
   ]
  },
  {
   "cell_type": "markdown",
   "metadata": {},
   "source": [
    "Finding those issues that are going to be negotiated over:"
   ]
  },
  {
   "cell_type": "code",
   "execution_count": 148,
   "metadata": {},
   "outputs": [
    {
     "name": "stdout",
     "output_type": "stream",
     "text": [
      "Negotiation issues:\n",
      "Agent 0: [0, 1]\n",
      "Agent 1: [2, 6]\n",
      "Agent 2: [9, 10]\n"
     ]
    }
   ],
   "source": [
    "print(\"Negotiation issues:\")\n",
    "for i, agent in enumerate(agents):\n",
    "    agent.negotiation_issues = [issueID for issueID in agent.issues if issue_graph[issueID].issue_type in [\n",
    "        issue_type.OUTGOING, issue_type.INCOMING]]\n",
    "    agent.negotiation_issues.sort()\n",
    "    print(f\"Agent {i}: {agent.negotiation_issues}\")\n"
   ]
  },
  {
   "cell_type": "markdown",
   "metadata": {},
   "source": [
    "Complete search for the optimal (negotiation ordering, feature assignment tuple)"
   ]
  },
  {
   "cell_type": "code",
   "execution_count": 149,
   "metadata": {},
   "outputs": [],
   "source": [
    "for agent in agents:\n",
    "    best_value = float('-inf')\n",
    "    best_ordering = None\n",
    "    best_assignment = None\n",
    "    for ordering in permutations(agent.negotiation_issues):\n",
    "        # TODO: GENERATE ALL POSSIBLE ASSIGNMENTS\n",
    "        # for assignment in \n",
    "        pass"
   ]
  }
 ],
 "metadata": {
  "kernelspec": {
   "display_name": "Python 3.9.6 64-bit",
   "language": "python",
   "name": "python3"
  },
  "language_info": {
   "codemirror_mode": {
    "name": "ipython",
    "version": 3
   },
   "file_extension": ".py",
   "mimetype": "text/x-python",
   "name": "python",
   "nbconvert_exporter": "python",
   "pygments_lexer": "ipython3",
   "version": "3.9.6"
  },
  "orig_nbformat": 4,
  "vscode": {
   "interpreter": {
    "hash": "25034407fed5d681614dac11a1c0537e8cb49e3a8883c071303eea01322943d9"
   }
  }
 },
 "nbformat": 4,
 "nbformat_minor": 2
}
